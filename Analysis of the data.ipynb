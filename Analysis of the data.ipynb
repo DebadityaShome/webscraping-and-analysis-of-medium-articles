{
 "cells": [
  {
   "cell_type": "markdown",
   "metadata": {},
   "source": [
    "# Analysis of the Scraped Medium Articles"
   ]
  },
  {
   "cell_type": "code",
   "execution_count": 44,
   "metadata": {
    "collapsed": true
   },
   "outputs": [],
   "source": [
    "import numpy as np\n",
    "import pandas as pd \n",
    "import matplotlib.pyplot as plt\n",
    "import seaborn as sns\n",
    "import plotly\n",
    "from plotly.offline import init_notebook_mode, iplot\n",
    "import plotly.plotly as py\n",
    "import plotly.graph_objs as go"
   ]
  },
  {
   "cell_type": "code",
   "execution_count": 2,
   "metadata": {
    "collapsed": true
   },
   "outputs": [],
   "source": [
    "data = pd.read_csv('medium.csv')"
   ]
  },
  {
   "cell_type": "code",
   "execution_count": 3,
   "metadata": {
    "scrolled": false
   },
   "outputs": [
    {
     "data": {
      "text/html": [
       "<div>\n",
       "<style>\n",
       "    .dataframe thead tr:only-child th {\n",
       "        text-align: right;\n",
       "    }\n",
       "\n",
       "    .dataframe thead th {\n",
       "        text-align: left;\n",
       "    }\n",
       "\n",
       "    .dataframe tbody tr th {\n",
       "        vertical-align: top;\n",
       "    }\n",
       "</style>\n",
       "<table border=\"1\" class=\"dataframe\">\n",
       "  <thead>\n",
       "    <tr style=\"text-align: right;\">\n",
       "      <th></th>\n",
       "      <th>Unnamed: 0</th>\n",
       "      <th>1.Tag</th>\n",
       "      <th>2.Name</th>\n",
       "      <th>3.Title</th>\n",
       "      <th>4.Body</th>\n",
       "      <th>5.Upvotes</th>\n",
       "      <th>6.Date</th>\n",
       "      <th>7.Comments</th>\n",
       "      <th>8.Link</th>\n",
       "    </tr>\n",
       "  </thead>\n",
       "  <tbody>\n",
       "    <tr>\n",
       "      <th>0</th>\n",
       "      <td>0</td>\n",
       "      <td>Artificial Intelligence</td>\n",
       "      <td>WiseWolf Fund</td>\n",
       "      <td>GAME-CHANGING TRENDS TO LOOK OUT FOR WITH AI</td>\n",
       "      <td>Artificial Intelligence is a state-of-the-art ...</td>\n",
       "      <td>12.9K</td>\n",
       "      <td>Apr 30</td>\n",
       "      <td>10 responses</td>\n",
       "      <td>https://medium.com/@wisewolf_fund/unique-trend...</td>\n",
       "    </tr>\n",
       "    <tr>\n",
       "      <th>1</th>\n",
       "      <td>1</td>\n",
       "      <td>Artificial Intelligence</td>\n",
       "      <td>Justin Lee</td>\n",
       "      <td>Chatbots were the next big thing: what happened?</td>\n",
       "      <td>Oh, how the headlines blared:“…the 2016 bot</td>\n",
       "      <td>7.7K</td>\n",
       "      <td>Jun 5</td>\n",
       "      <td>41 responses</td>\n",
       "      <td>https://medium.com/swlh/chatbots-were-the-next...</td>\n",
       "    </tr>\n",
       "    <tr>\n",
       "      <th>2</th>\n",
       "      <td>2</td>\n",
       "      <td>Artificial Intelligence</td>\n",
       "      <td>Emmanuel Ameisen</td>\n",
       "      <td>Reinforcement Learning from scratch</td>\n",
       "      <td>Inspired by a great tutorial at O’Reilly AI</td>\n",
       "      <td>907</td>\n",
       "      <td>Jun 7</td>\n",
       "      <td>1 response</td>\n",
       "      <td>https://blog.insightdatascience.com/reinforcem...</td>\n",
       "    </tr>\n",
       "  </tbody>\n",
       "</table>\n",
       "</div>"
      ],
      "text/plain": [
       "   Unnamed: 0                    1.Tag            2.Name  \\\n",
       "0           0  Artificial Intelligence     WiseWolf Fund   \n",
       "1           1  Artificial Intelligence        Justin Lee   \n",
       "2           2  Artificial Intelligence  Emmanuel Ameisen   \n",
       "\n",
       "                                            3.Title  \\\n",
       "0      GAME-CHANGING TRENDS TO LOOK OUT FOR WITH AI   \n",
       "1  Chatbots were the next big thing: what happened?   \n",
       "2               Reinforcement Learning from scratch   \n",
       "\n",
       "                                              4.Body 5.Upvotes  6.Date  \\\n",
       "0  Artificial Intelligence is a state-of-the-art ...     12.9K  Apr 30   \n",
       "1        Oh, how the headlines blared:“…the 2016 bot      7.7K   Jun 5   \n",
       "2        Inspired by a great tutorial at O’Reilly AI       907   Jun 7   \n",
       "\n",
       "     7.Comments                                             8.Link  \n",
       "0  10 responses  https://medium.com/@wisewolf_fund/unique-trend...  \n",
       "1  41 responses  https://medium.com/swlh/chatbots-were-the-next...  \n",
       "2    1 response  https://blog.insightdatascience.com/reinforcem...  "
      ]
     },
     "execution_count": 3,
     "metadata": {},
     "output_type": "execute_result"
    }
   ],
   "source": [
    "data.head(3)"
   ]
  },
  {
   "cell_type": "code",
   "execution_count": 38,
   "metadata": {},
   "outputs": [],
   "source": [
    "tag = data.groupby('1.Tag').size()\n",
    "top = list(tag.index)\n",
    "value = list(tag.values)\n",
    "colors = ['gold', 'lightcoral', 'lightskyblue']"
   ]
  },
  {
   "cell_type": "markdown",
   "metadata": {},
   "source": [
    "### Distribution of Tags (ML, DL & AI)"
   ]
  },
  {
   "cell_type": "code",
   "execution_count": 39,
   "metadata": {},
   "outputs": [
    {
     "data": {
      "image/png": "[encoded data removed]",
      "text/plain": [
       "<matplotlib.figure.Figure at 0x24e6ffa7278>"
      ]
     },
     "metadata": {},
     "output_type": "display_data"
    }
   ],
   "source": [
    "plt.pie(value, labels=top, colors=colors, autopct='%1.1f%%',startangle=140)\n",
    "plt.axis('equal')\n",
    "plt.show()"
   ]
  },
  {
   "cell_type": "code",
   "execution_count": 6,
   "metadata": {},
   "outputs": [
    {
     "data": {
      "text/plain": [
       "185"
      ]
     },
     "execution_count": 6,
     "metadata": {},
     "output_type": "execute_result"
    }
   ],
   "source": [
    "len(data)"
   ]
  },
  {
   "cell_type": "code",
   "execution_count": 5,
   "metadata": {},
   "outputs": [
    {
     "data": {
      "text/plain": [
       "120"
      ]
     },
     "execution_count": 5,
     "metadata": {},
     "output_type": "execute_result"
    }
   ],
   "source": [
    "len(data['3.Title'].unique())"
   ]
  },
  {
   "cell_type": "markdown",
   "metadata": {},
   "source": [
    "### Out of 185 titles, there are 120 unique titles...so the tags have about 65 common titles"
   ]
  },
  {
   "cell_type": "code",
   "execution_count": 8,
   "metadata": {},
   "outputs": [
    {
     "data": {
      "text/plain": [
       "96"
      ]
     },
     "execution_count": 8,
     "metadata": {},
     "output_type": "execute_result"
    }
   ],
   "source": [
    "len(data['2.Name'].unique())"
   ]
  },
  {
   "cell_type": "markdown",
   "metadata": {},
   "source": [
    "### There are about 96 unique authors writing in the field of AI, ML and DL "
   ]
  },
  {
   "cell_type": "code",
   "execution_count": 17,
   "metadata": {},
   "outputs": [],
   "source": [
    "name = data.groupby('2.Name').size()\n",
    "name = name[(name.values>2)]"
   ]
  },
  {
   "cell_type": "code",
   "execution_count": 46,
   "metadata": {},
   "outputs": [
    {
     "data": {
      "text/html": [
       "<iframe id=\"igraph\" scrolling=\"no\" style=\"border:none;\" seamless=\"seamless\" src=\"https://plot.ly/~Sangarshanan/36.embed\" height=\"525px\" width=\"100%\"></iframe>"
      ],
      "text/plain": [
       "<plotly.tools.PlotlyDisplay object>"
      ]
     },
     "execution_count": 46,
     "metadata": {},
     "output_type": "execute_result"
    }
   ],
   "source": [
    "layout = dict(\n",
    "    title = \"Authors with Respect to the number of Articles\",\n",
    ")\n",
    "data = [go.Bar(x=name.index,y=name.values)]\n",
    "fig = dict(data=data, layout=layout)\n",
    "py.iplot(fig, filename = \"murd\")"
   ]
  },
  {
   "cell_type": "markdown",
   "metadata": {},
   "source": [
    "### Adam Geitgey and James Lee have published the most of number of articles(8) under ML,AI & DL tag"
   ]
  },
  {
   "cell_type": "code",
   "execution_count": null,
   "metadata": {
    "collapsed": true
   },
   "outputs": [],
   "source": []
  },
  {
   "cell_type": "code",
   "execution_count": null,
   "metadata": {
    "collapsed": true
   },
   "outputs": [],
   "source": []
  },
  {
   "cell_type": "code",
   "execution_count": 43,
   "metadata": {},
   "outputs": [
    {
     "ename": "ModuleNotFoundError",
     "evalue": "No module named 'wordcloud'",
     "output_type": "error",
     "traceback": [
      "\u001b[1;31m---------------------------------------------------------------------------\u001b[0m",
      "\u001b[1;31mModuleNotFoundError\u001b[0m                       Traceback (most recent call last)",
      "\u001b[1;32m<ipython-input-43-8038e19af624>\u001b[0m in \u001b[0;36m<module>\u001b[1;34m()\u001b[0m\n\u001b[1;32m----> 1\u001b[1;33m \u001b[1;32mfrom\u001b[0m \u001b[0mwordcloud\u001b[0m \u001b[1;32mimport\u001b[0m \u001b[0mWordCloud\u001b[0m\u001b[1;33m\u001b[0m\u001b[0m\n\u001b[0m",
      "\u001b[1;31mModuleNotFoundError\u001b[0m: No module named 'wordcloud'"
     ]
    }
   ],
   "source": [
    "from wordcloud import WordCloud"
   ]
  }
 ],
 "metadata": {
  "kernelspec": {
   "display_name": "Python 3",
   "language": "python",
   "name": "python3"
  },
  "language_info": {
   "codemirror_mode": {
    "name": "ipython",
    "version": 3
   },
   "file_extension": ".py",
   "mimetype": "text/x-python",
   "name": "python",
   "nbconvert_exporter": "python",
   "pygments_lexer": "ipython3",
   "version": "3.6.3"
  }
 },
 "nbformat": 4,
 "nbformat_minor": 2
}
